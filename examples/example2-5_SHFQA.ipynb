{
 "cells": [
  {
   "cell_type": "markdown",
   "metadata": {},
   "source": [
    "# SHFQA"
   ]
  },
  {
   "cell_type": "markdown",
   "metadata": {},
   "source": [
    "Just like the driver for the HDAWG in the previous example, we now use the `zhinst.qcodes.SHFQA` instrument driver."
   ]
  },
  {
   "cell_type": "code",
   "execution_count": 1,
   "metadata": {
    "ExecuteTime": {
     "end_time": "2021-09-28T14:24:54.363628Z",
     "start_time": "2021-09-28T14:24:35.570714Z"
    },
    "scrolled": true
   },
   "outputs": [
    {
     "name": "stdout",
     "output_type": "stream",
     "text": [
      "Successfully connected to data server at localhost:8004 api version: 6\n",
      "Successfully connected to device DEV12036 on interface 1GBE\n",
      "Connected to: Zurich Instruments SHFQA (serial:dev12036, firmware:67774) in 8.45s\n"
     ]
    }
   ],
   "source": [
    "import numpy as np\n",
    "import matplotlib.pyplot as plt\n",
    "\n",
    "import qcodes as qc\n",
    "import zhinst.qcodes as ziqc\n",
    "\n",
    "shfqa = ziqc.SHFQA(\"shfqa\", \"dev12036\", interface=\"1gbe\", host=\"localhost\")"
   ]
  },
  {
   "cell_type": "code",
   "execution_count": 2,
   "metadata": {
    "ExecuteTime": {
     "end_time": "2021-09-28T14:24:54.477615Z",
     "start_time": "2021-09-28T14:24:54.470614Z"
    }
   },
   "outputs": [
    {
     "name": "stdout",
     "output_type": "stream",
     "text": [
      "['qachannels', 'scope', 'stats', 'status', 'system', 'features', 'dios']\n",
      "['IDN', 'data_server_version', 'firmware_version', 'fpga_version', 'sw_trigger', 'ref_clock', 'ref_clock_actual', 'ref_clock_status', 'clockbase']\n"
     ]
    }
   ],
   "source": [
    "print([k for k in shfqa.submodules.keys()])\n",
    "print([k for k in shfqa.parameters.keys()])"
   ]
  },
  {
   "cell_type": "markdown",
   "metadata": {},
   "source": [
    "## Channel parameters of the SHFQA\n",
    "\n",
    "SHFQA has 2 or 4 channels, each of them can serve for a single readout line. Each QAchannel module can readout up to 8 or 16 quits."
   ]
  },
  {
   "cell_type": "code",
   "execution_count": 3,
   "metadata": {
    "ExecuteTime": {
     "end_time": "2021-09-28T14:24:54.592661Z",
     "start_time": "2021-09-28T14:24:54.583660Z"
    }
   },
   "outputs": [
    {
     "name": "stdout",
     "output_type": "stream",
     "text": [
      "['input', 'input_range', 'output', 'output_range', 'center_freq', 'mode']\n"
     ]
    }
   ],
   "source": [
    "print([k for k in shfqa.qachannels[0].parameters.keys()])"
   ]
  },
  {
   "cell_type": "code",
   "execution_count": 4,
   "metadata": {
    "ExecuteTime": {
     "end_time": "2021-09-28T14:25:02.206818Z",
     "start_time": "2021-09-28T14:25:02.162817Z"
    }
   },
   "outputs": [
    {
     "name": "stdout",
     "output_type": "stream",
     "text": [
      "Node: /DEV12036/QACHANNELS/0/INPUT/RANGE\n",
      "Description: Sets the maximal Range of the Signal Input power. The instrument selects the closest available Range with a resolution of 5 dBm.\n",
      "Type: Double\n",
      "Properties: Read, Write, Setting\n",
      "Unit: dBm\n",
      "\r\n",
      "\r\n",
      "Parameter class:\r\n",
      "\r\n",
      "* `name` input_range\r\n",
      "* `label` Maximal Range of the Signal Input Power\r\n",
      "* `unit` dBm\r\n",
      "* `vals` None\n"
     ]
    }
   ],
   "source": [
    "shfqa.qachannels[0].input_range(0)\n",
    "shfqa.qachannels[0].output_range(-5)\n",
    "shfqa.qachannels[0].center_freq(5e9)\n",
    "shfqa.qachannels[0].input('on')\n",
    "shfqa.qachannels[0].output('on')\n",
    "# test what are correctly printed\n",
    "print(shfqa.qachannels[0].input_range.__doc__)"
   ]
  },
  {
   "cell_type": "markdown",
   "metadata": {},
   "source": [
    "## Spectroscopy mode of the SHFQA\n",
    "SHFQA has two application modes, **Spectroscopy** and **Readout**. Spectroscopy mode is generally used for resonator spectroscopy experiments, and Readout mode is used for qubit readout experiments with fixed readout frequencies. \n",
    "\n",
    "In Spectroscopy mode, offset frequency sweep is done by the **sweeper** module. Each frequency sweep is triggered by an internal or external trigger. External trigger is recommended. With **shfqa.set_trigger_loopback()** a marker output is connected to a trigger input internally without any physical connections. "
   ]
  },
  {
   "cell_type": "code",
   "execution_count": 5,
   "metadata": {
    "ExecuteTime": {
     "end_time": "2021-09-28T14:25:05.155535Z",
     "start_time": "2021-09-28T14:25:05.148543Z"
    }
   },
   "outputs": [
    {
     "name": "stdout",
     "output_type": "stream",
     "text": [
      "['oscillator_gain', 'oscillator_freq', 'integration_time', 'integration_length', 'integration_delay', 'trigger_source']\n"
     ]
    }
   ],
   "source": [
    "print([k for k in shfqa.qachannels[0].sweeper.parameters.keys()])"
   ]
  },
  {
   "cell_type": "code",
   "execution_count": 6,
   "metadata": {
    "ExecuteTime": {
     "end_time": "2021-09-28T14:25:08.338513Z",
     "start_time": "2021-09-28T14:25:06.100702Z"
    }
   },
   "outputs": [],
   "source": [
    "shfqa.qachannels[0].mode('spectroscopy')\n",
    "sweeper0=shfqa.qachannels[0].sweeper\n",
    "\n",
    "shfqa.set_trigger_loopback()\n",
    "sweeper0.trigger_source(\"channel0_trigger_input0\")\n",
    "sweeper0.trigger_level(0)\n",
    "sweeper0.trigger_imp50(1)\n",
    "\n",
    "sweeper0.start_frequency(-200e-6)\n",
    "sweeper0.stop_frequency(200e6)\n",
    "sweeper0.num_points(51)\n",
    "sweeper0.mapping(\"linear\")\n",
    "sweeper0.integration_time(100e-6)\n",
    "sweeper0.num_averages(2)\n",
    "sweeper0.averaging_mode(\"sequential\")\n",
    "# print(sweeper0.mapping.__doc__)"
   ]
  },
  {
   "cell_type": "code",
   "execution_count": 7,
   "metadata": {
    "ExecuteTime": {
     "end_time": "2021-09-28T14:25:33.722552Z",
     "start_time": "2021-09-28T14:25:09.207626Z"
    }
   },
   "outputs": [
    {
     "name": "stdout",
     "output_type": "stream",
     "text": [
      "Run a sweep with 51 frequency points in the range of [-2e-10, 200.0] MHz + 5.0 GHz. \n",
      "Mapping is linear. \n",
      "Integration time = 0.0001 sec. \n",
      "Measures 2 times per frequency point. \n",
      "Averaging mode is sequential.\n",
      "Measurement (2/2) at 200.000MHz.                    \r"
     ]
    }
   ],
   "source": [
    "sweeper0.run()\n",
    "result=sweeper0.read()\n",
    "# sweeper0.plot()"
   ]
  },
  {
   "cell_type": "markdown",
   "metadata": {},
   "source": [
    "## Readout mode of the SHFQA\n",
    "In Readout mode, **generator** module is used to configure waveform playback, such as upload waveforms, construct and compile readout sequences. Integration parameters and result source are configured by **readout**. Please note that the data type of uploaded waveforms has to be **complex128**."
   ]
  },
  {
   "cell_type": "code",
   "execution_count": 8,
   "metadata": {
    "ExecuteTime": {
     "end_time": "2021-09-28T14:25:39.571251Z",
     "start_time": "2021-09-28T14:25:39.560725Z"
    }
   },
   "outputs": [],
   "source": [
    "shfqa.qachannels[0].mode('readout')\n",
    "generator0 = shfqa.qachannels[0].generator\n",
    "readout0 = shfqa.qachannels[0].readout"
   ]
  },
  {
   "cell_type": "code",
   "execution_count": 9,
   "metadata": {
    "ExecuteTime": {
     "end_time": "2021-09-28T14:25:40.481929Z",
     "start_time": "2021-09-28T14:25:40.474900Z"
    }
   },
   "outputs": [
    {
     "name": "stdout",
     "output_type": "stream",
     "text": [
      "['dig_trigger1_source', 'dig_trigger2_source', 'playback_delay', 'single']\n",
      "['integration_length', 'integration_delay', 'result_source']\n"
     ]
    }
   ],
   "source": [
    "print([k for k in shfqa.qachannels[0].generator.parameters.keys()])\n",
    "print([k for k in shfqa.qachannels[0].readout.parameters.keys()])\n",
    "# help(generator0)\n",
    "# help(readout0)"
   ]
  },
  {
   "cell_type": "code",
   "execution_count": 10,
   "metadata": {
    "ExecuteTime": {
     "end_time": "2021-09-28T14:25:46.775102Z",
     "start_time": "2021-09-28T14:25:43.453131Z"
    }
   },
   "outputs": [
    {
     "name": "stdout",
     "output_type": "stream",
     "text": [
      "Current length of queue: 1\n",
      "Upload of 1 waveforms took 0.18024 s\n"
     ]
    }
   ],
   "source": [
    "num_readouts = 100\n",
    "pulse_duration = 100e-9\n",
    "readout_freq = 200e6\n",
    "sampling_rate = 2e9\n",
    "\n",
    "pulse = 0.5*np.exp(2j*np.pi*readout_freq*np.linspace(0, pulse_duration, int(pulse_duration * sampling_rate)))\n",
    "weight = np.conj(pulse)\n",
    "\n",
    "shfqa.set_trigger_loopback()\n",
    "generator0.dig_trigger1_source(\"chan0trigin0\")\n",
    "# Delay between receving the trigger and playing the readout pulses\n",
    "generator0.playback_delay(0) \n",
    "\n",
    "#Define the program\n",
    "seqc_program =\"\"\"\n",
    "repeat($param1$) {\n",
    "    waitDigTrigger(1);\n",
    "    startQA(QA_GEN_ALL, QA_INT_ALL, true, 0, 0x0);\n",
    "}    \n",
    "\"\"\"\n",
    "generator0.set_sequence_params(\n",
    "    sequence_type=\"Custom\",\n",
    "    program = seqc_program ,\n",
    "    custom_params = [num_readouts],\n",
    ")\n",
    "\n",
    "# Upload readout pulse and integration weight\n",
    "generator0.reset_queue()\n",
    "generator0.queue_waveform(pulse)\n",
    "generator0.compile()\n",
    "generator0.upload_waveforms()\n",
    "readout0.integrations[0].set_int_weights(weight)"
   ]
  },
  {
   "cell_type": "code",
   "execution_count": 11,
   "metadata": {
    "ExecuteTime": {
     "end_time": "2021-09-28T14:25:53.874166Z",
     "start_time": "2021-09-28T14:25:50.034885Z"
    }
   },
   "outputs": [],
   "source": [
    "setup_delay = 200e-9\n",
    "\n",
    "readout0.integration_length(len(weight))\n",
    "readout0.integration_delay(setup_delay)\n",
    "readout0.result_source(\"result_of_integration\")\n",
    "\n",
    "readout0.arm(length = num_readouts, averages = 1)\n",
    "generator0.stop()\n",
    "generator0.run()\n",
    "    \n",
    "result = readout0.read()"
   ]
  },
  {
   "cell_type": "markdown",
   "metadata": {},
   "source": [
    "## Scope monitor of the SHFQA\n",
    "\n",
    "The **scope** module of the SHFQA is used to monitor or record time traces of signals at IF frequency down converted by the SHFQA. "
   ]
  },
  {
   "cell_type": "code",
   "execution_count": 12,
   "metadata": {
    "ExecuteTime": {
     "end_time": "2021-09-28T14:26:22.196999Z",
     "start_time": "2021-09-28T14:26:22.192001Z"
    }
   },
   "outputs": [
    {
     "name": "stdout",
     "output_type": "stream",
     "text": [
      "['channel1', 'channel2', 'channel3', 'channel4', 'input_select1', 'input_select2', 'input_select3', 'input_select4', 'trigger_source', 'trigger_delay', 'length', 'time']\n"
     ]
    }
   ],
   "source": [
    "print([k for k in shfqa.scope.parameters.keys()])\n",
    "# help(shfqa.scope)"
   ]
  },
  {
   "cell_type": "code",
   "execution_count": 13,
   "metadata": {
    "ExecuteTime": {
     "end_time": "2021-09-28T14:26:24.808717Z",
     "start_time": "2021-09-28T14:26:23.161567Z"
    }
   },
   "outputs": [],
   "source": [
    "scope=shfqa.scope\n",
    "scope.channel1('on')\n",
    "scope.input_select1\n",
    "scope.trigger_source(\"channel0_trigger_input0\")\n",
    "scope.trigger_delay(200e-9)\n",
    "scope.length(1024)\n",
    "scope.averaging(1)\n",
    "scope.segments(1)\n",
    "scope.run()\n",
    "result=scope.read()\n",
    "# scope.stop()"
   ]
  },
  {
   "cell_type": "markdown",
   "metadata": {},
   "source": [
    "## DIO of the SHFQA\n",
    "The **dios** of the SHFQA is used to communicate qubit readout results from SHFQA to qubit control instruments, such as SHFSG or HDAWG."
   ]
  },
  {
   "cell_type": "code",
   "execution_count": 14,
   "metadata": {
    "ExecuteTime": {
     "end_time": "2021-09-28T14:26:28.369659Z",
     "start_time": "2021-09-28T14:26:28.361664Z"
    }
   },
   "outputs": [
    {
     "name": "stdout",
     "output_type": "stream",
     "text": [
      "['drive', 'output', 'mode', 'input', 'interface']\n"
     ]
    }
   ],
   "source": [
    "print([k for k in shfqa.dios[0].parameters.keys()])"
   ]
  }
 ],
 "metadata": {
  "kernelspec": {
   "display_name": "Python 3",
   "language": "python",
   "name": "python3"
  },
  "language_info": {
   "codemirror_mode": {
    "name": "ipython",
    "version": 3
   },
   "file_extension": ".py",
   "mimetype": "text/x-python",
   "name": "python",
   "nbconvert_exporter": "python",
   "pygments_lexer": "ipython3",
   "version": "3.7.10"
  },
  "latex_envs": {
   "LaTeX_envs_menu_present": true,
   "autoclose": true,
   "autocomplete": true,
   "bibliofile": "biblio.bib",
   "cite_by": "apalike",
   "current_citInitial": 1,
   "eqLabelWithNumbers": true,
   "eqNumInitial": 1,
   "hotkeys": {
    "equation": "Ctrl-E",
    "itemize": "Ctrl-I"
   },
   "labels_anchors": false,
   "latex_user_defs": false,
   "report_style_numbering": false,
   "user_envs_cfg": false
  },
  "toc": {
   "base_numbering": 1,
   "nav_menu": {},
   "number_sections": true,
   "sideBar": true,
   "skip_h1_title": false,
   "title_cell": "Table of Contents",
   "title_sidebar": "Contents",
   "toc_cell": false,
   "toc_position": {},
   "toc_section_display": true,
   "toc_window_display": false
  },
  "varInspector": {
   "cols": {
    "lenName": 16,
    "lenType": 16,
    "lenVar": 40
   },
   "kernels_config": {
    "python": {
     "delete_cmd_postfix": "",
     "delete_cmd_prefix": "del ",
     "library": "var_list.py",
     "varRefreshCmd": "print(var_dic_list())"
    },
    "r": {
     "delete_cmd_postfix": ") ",
     "delete_cmd_prefix": "rm(",
     "library": "var_list.r",
     "varRefreshCmd": "cat(var_dic_list()) "
    }
   },
   "types_to_exclude": [
    "module",
    "function",
    "builtin_function_or_method",
    "instance",
    "_Feature"
   ],
   "window_display": false
  }
 },
 "nbformat": 4,
 "nbformat_minor": 4
}
